{
 "cells": [
  {
   "cell_type": "markdown",
   "metadata": {},
   "source": [
    "## Agent-based model"
   ]
  },
  {
   "cell_type": "code",
   "execution_count": 24,
   "metadata": {},
   "outputs": [],
   "source": [
    "from numpy.random import randint, rand"
   ]
  },
  {
   "cell_type": "code",
   "execution_count": 25,
   "metadata": {},
   "outputs": [],
   "source": [
    "class Person():\n",
    "    \"\"\"\n",
    "    An agent representing a person.\n",
    "    \n",
    "    By default, a person is susceptible.  \n",
    "    \n",
    "    They can become removed using the remove method. \n",
    "    \n",
    "    They can become infected using the infected mothod.\n",
    "    \n",
    "    \"\"\"\n",
    "    \n",
    "    def __init__(self):\n",
    "        self.state = \"S\" \n",
    "    \n",
    "    def get_state(self):\n",
    "        \"\"\"\n",
    "        returns the state of a person:\"S\",\"I\" or \"R\"\n",
    "        \"\"\"\n",
    "        return self.state\n",
    "\n",
    "    \n",
    "    def remove(self):\n",
    "        \"\"\"\n",
    "        to make a person recovered\n",
    "        \"\"\"\n",
    "        self.state = \"R\"\n",
    "        \n",
    "    def infected(self):\n",
    "        \"\"\"\n",
    "        to make a person infected\n",
    "        \"\"\"\n",
    "        self.state = \"I\"\n",
    "        "
   ]
  },
  {
   "cell_type": "code",
   "execution_count": 134,
   "metadata": {},
   "outputs": [],
   "source": [
    "def count_infectious(pop):\n",
    "    \"\"\"\n",
    "    count how many people are infectious at the end of the day\n",
    "    \n",
    "    \"\"\"\n",
    "    return sum((p.get_state() == \"I\") for p in pop)\n",
    "\n",
    "def count_removed(pop):\n",
    "    \"\"\"\n",
    "    count how many people are recovered at the end of the day\n",
    "    \n",
    "    \"\"\"\n",
    "    return sum((p.get_state() == \"R\") for p in pop)\n",
    "\n",
    "def count_susceptible(pop):\n",
    "    \"\"\"\n",
    "    count how many people are susceptible at the end of the day\n",
    "    \n",
    "    \"\"\"\n",
    "    return sum((p.get_state() == \"S\") for p in pop)\n"
   ]
  },
  {
   "cell_type": "code",
   "execution_count": null,
   "metadata": {},
   "outputs": [],
   "source": [
    "def sir_model_simulation(N, b, k, T):    \n",
    "    \"\"\"\n",
    "    simulate a population, where people interact and change state according to the model parameters.\n",
    "    \n",
    "    N: N individuals the population has\n",
    "    \n",
    "    b: the number of interactions each day that could spread the disease (per individual)\n",
    "    \n",
    "    k: the fraction of the infectious population which recovers each day\n",
    "    \n",
    "    T: simulation time period\n",
    "    \n",
    "    \"\"\"\n",
    "    pop = [Person() for i in range(N)] # our population\n",
    "    pop[0].infected()\n",
    "    counts_I = [count_infectious(pop)]\n",
    "    counts_R = [count_removed(pop)]\n",
    "    counts_S = [count_susceptible(pop)]\n",
    "    \n",
    "    for t in range(T):\n",
    "        for i in range(N):\n",
    "            if pop[i].get_state()==\"I\":  \n",
    "                \n",
    "                contacts = randint(N, size=int(b)+1)\n",
    "                if b >= 1:\n",
    "                    for j in contacts[:-1]:\n",
    "                        if pop[j].get_state()==\"S\":\n",
    "                            pop[j].infected()\n",
    "                            \n",
    "                j = contacts[-1]\n",
    "                if (rand() < (b-int(b))) and (pop[j].get_state()==\"S\"):\n",
    "                    pop[j].infected()\n",
    "                           \n",
    "                \n",
    "                if rand() < k:\n",
    "                    pop[i].remove()\n",
    "                \n",
    "        # add to our counts\n",
    "        counts_I.append(count_infectious(pop))\n",
    "        counts_R.append(count_removed(pop))\n",
    "        counts_S.append(count_susceptible(pop))\n",
    "    return counts_I,counts_R,counts_S"
   ]
  },
  {
   "cell_type": "code",
   "execution_count": 135,
   "metadata": {},
   "outputs": [],
   "source": [
    "N = 5000\n",
    "b = 1/2\n",
    "k = 1/3\n",
    "T = 100\n",
    "counts_I,counts_R,counts_S = sir_model_simulation(N, b, k, T) "
   ]
  },
  {
   "cell_type": "code",
   "execution_count": 136,
   "metadata": {},
   "outputs": [
    {
     "data": {
      "image/png": "[encoded data removed]",
      "text/plain": [
       "<Figure size 432x288 with 1 Axes>"
      ]
     },
     "metadata": {
      "needs_background": "light"
     },
     "output_type": "display_data"
    }
   ],
   "source": [
    "import matplotlib.pyplot as plt\n",
    "\n",
    "plt.plot(counts_I,label=\"infectious\")\n",
    "plt.plot(counts_R,label=\"removed\")\n",
    "plt.plot(counts_S,label=\"susceptible\")\n",
    "plt.legend()\n",
    "plt.show()"
   ]
  },
  {
   "cell_type": "markdown",
   "metadata": {},
   "source": [
    "## Differential Equations"
   ]
  },
  {
   "cell_type": "code",
   "execution_count": 116,
   "metadata": {},
   "outputs": [],
   "source": [
    "# all scripts used to run code\n",
    "\n",
    "import numpy as np\n",
    "import matplotlib.pyplot as plt\n",
    "from scipy.integrate import solve_ivp\n",
    "\n",
    "def f(t, v):\n",
    "    return [-b * v[0] * v[1], b * v[0] * v[1] - k * v[1], k * v[1]]\n",
    "\n",
    "def ODE_simulation(N,b,k,T):\n",
    "    \"\"\"\n",
    "    An ODE simulation that model time dependent variables: S, I, R\n",
    "    \n",
    "    N: N individuals the population has\n",
    "    \n",
    "    b: the number of interactions each day that could spread the disease (per individual)\n",
    "    \n",
    "    k: the fraction of the infectious population which recovers each day\n",
    "    \n",
    "    T: simulation time period\n",
    "    \n",
    "    \"\"\"\n",
    "    v0 = [(N-1)/N,1/N,0] ## One person is infectious while others are susceptible\n",
    "    t_span = [0,T]\n",
    "    t_eval = list(range(T))\n",
    "    sol = solve_ivp(f, t_span, v0, t_eval=t_eval)\n",
    "    return sol"
   ]
  },
  {
   "cell_type": "code",
   "execution_count": 114,
   "metadata": {},
   "outputs": [],
   "source": [
    "N = 5000\n",
    "b = 1/2\n",
    "k = 1/3\n",
    "T = 100\n",
    "sol = ODE_simulation(N,b,k,T)"
   ]
  },
  {
   "cell_type": "code",
   "execution_count": 115,
   "metadata": {},
   "outputs": [
    {
     "data": {
      "image/png": "[encoded data removed]",
      "text/plain": [
       "<Figure size 432x288 with 1 Axes>"
      ]
     },
     "metadata": {
      "needs_background": "light"
     },
     "output_type": "display_data"
    }
   ],
   "source": [
    "plt.plot(sol.t, sol.y[0], label=\"susceptible\", c='g')\n",
    "plt.plot(sol.t, sol.y[1], label=\"infectious\", c='r')\n",
    "plt.plot(sol.t, sol.y[2], label=\"removed\", c='b')\n",
    "plt.title(\"SIR\")\n",
    "plt.ylabel(\"population\")\n",
    "plt.xlabel(\"days\")\n",
    "plt.legend()\n",
    "plt.show()"
   ]
  },
  {
   "cell_type": "code",
   "execution_count": null,
   "metadata": {},
   "outputs": [],
   "source": []
  }
 ],
 "metadata": {
  "kernelspec": {
   "display_name": "Python 3",
   "language": "python",
   "name": "python3"
  },
  "language_info": {
   "codemirror_mode": {
    "name": "ipython",
    "version": 3
   },
   "file_extension": ".py",
   "mimetype": "text/x-python",
   "name": "python",
   "nbconvert_exporter": "python",
   "pygments_lexer": "ipython3",
   "version": "3.6.8"
  }
 },
 "nbformat": 4,
 "nbformat_minor": 4
}
