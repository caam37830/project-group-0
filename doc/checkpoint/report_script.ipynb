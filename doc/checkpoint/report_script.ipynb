{
 "cells": [
  {
   "cell_type": "markdown",
   "metadata": {},
   "source": [
    "## <center>Preliminary Report of the Susceptible-Infected-Removed (SIR) Model for Disease Spread\n",
    "<center>$\\textit{Yu An 12249123}$\n",
    "<center>$\\textit{Shu Han 12249123}$\n",
    "<center>$\\textit{Yun Lin 12249123}$"
   ]
  },
  {
   "cell_type": "markdown",
   "metadata": {},
   "source": [
    "### 1. Introduction to the SIR model\n",
    "The SIR (susceptible-infected-removed) model, contributed by Kermack, W. O., McKendrick, A. G, Ronald Ross and others, was formed in the early twenties and made a big breakthrough in modeling the trend of the possibile disease outbreak as well as providing key information for the public and policymakers regarding severeness and control work. The establishment of the simiplied model is implemented here in this project. Under a fixed homogeneous population, three distinct subpopulations are divided, with `S` representing those who are susceptible, `I` denoting those who are infected and `R` standing for those who have recovered. These groups are divided in a way that during an epidemic, people are interested in the amount of infected patients that can transmit the disease, the number of agents who are immuned against the disease and the portions who are not yet being infected and are susceptible. Denote the sizes of these groups at time t by S(t), I(t), and R(t). Moreover, introduce notation `b` to be the fixed number of interactions that spread the disease per day per infected individual and `k` to be a fixed fraction of the infected subpopulation that recovers per day. Altogether, the SIR model consists of a system of three ordinary differential equations (ODEs) that be written by\n",
    "$$\\frac{ds}{dt}=-b*s(t)*i(t)$$\n",
    "$$\\frac{dr}{dt}=k*i(t)$$\n",
    "$$\\frac{di}{dt}=b*s(t)*i(t)-k*i(t)$$,\n",
    "                \n",
    "where `s`,`i` and `r` here are the percentage of each group over the total population. \n",
    "\n",
    "   Besides a closed population with no social structure, the SIR model also assumes that `R` subpopulation is permanently immuned and the `I` subpopulation is contagious at the moment of infection. Moreover, the model assumes a mass-action mixing, meaning the the the fraction of interactions between `S` and `I` is proportional to the product of their population sizes. In other words, every agent will have equal probability in interacting with every other agents per unit time. This implies that an increase in the size of the subpopulations will lead to an increase in the infections and that `I` and `S` are homogeneously distributed in space. This might be problematic in real-world cases, as people tends to encounter within a small community. While these assumptions can sometimes be strong and adversely affecting the prediction in applications, they can be adjusted and in various forms to bring complexity and create extended SIR models. \n"
   ]
  },
  {
   "cell_type": "markdown",
   "metadata": {},
   "source": [
    "### 2. sir package\n"
   ]
  },
  {
   "cell_type": "markdown",
   "metadata": {},
   "source": [
    "### 3. Preliminary investigations using the agent-based and continuous models\n",
    "In this section, the population size is assumed to be 10000. The initial condition is that 0.1% of the population has been infected, while others remian susceptible. `b` denotes the number of interactions each day that could spread the disease (per individual) and `k` denotes the fraction of the infectious population which recovers each day.\n",
    "\n",
    "### 3.1 ODE simulation\n",
    "<center><img src=\"Example_plot_ode.png\" width=\"90%\"/>\n",
    "<center>$\\textit{Image 1: Example plot for ODE simulation under different values of b and k.}$</center>\n",
    "    \n",
    "Here we simulated the S, I, R populations over time under different b and k. It is obvious that if k is approximate zero, the infected population gets larger but cannot recover, hence all population will get infected eventually. It is also obvious that if k is approximate one, infectious people are sure to removed, hence no more susceptible people get infected. This two special but trival cases were not simulated. We simulated under b,k=1/5,2/5,3/5,4/5 and it can be seen from the plot that \n",
    "\n",
    "1. If k = b, there will be a very small surge of infectious population (less than 10% of total population), so the susceptible population decrease a bit. Soon the infectious population will decrease to around zero since they are removed (recovered or dead).\n",
    "\n",
    "2. If k > b, there will almost no surge of infectious population, the infectious population will soon removed. The susceptible population remains uninfected.\n",
    "\n",
    "3. If k < b, there will be a significant surge of infectious population. As k is significantly larger than zero, the infectious population will eventually recovered. Moreover, when k < b, the larger the difference between b and k, the greater the surge will be.\n",
    "\n",
    "In order to have a closer look at the qualitative behavior of the simulations based on the parameters b and k, we drew phase diagrams to look at the each population proportion with respect to k and b at several time points (T=20,40,60,80).\n",
    "\n",
    "\n",
    "<center><img src=\"phase_diagram_ODE_I.png\" width=\"90%\"/>\n",
    "<center>$\\textit{Image 2: Phase diagram of infectious population for ODE simulation}$</center>\n",
    "    \n",
    "From the four phase diagrams above for infectious population, it can be seen that\n",
    "1. The dark area on top right of each diagram indicates that if k > b, infectious population size is close to zero all the time, which means that there is almost no surge of infectious population and the initial infectious people are removed. It agrees with the result of Image 1. \n",
    "    \n",
    "2. The lighter area first appears in the lower left corner, then moves in the upper right and become darker itself at the same time. It indicates that if k < b, when the difference between k and b is larger, the surge of infecious population appears earlier, greater. It is also earlier and quicker for the infectious population goes to zero.\n",
    "\n",
    "\n",
    "\n",
    "<center><img src=\"phase_diagram_ODE_S.png\" width=\"90%\"/>\n",
    "<center><img src=\"phase_diagram_ODE_R.png\" width=\"90%\"/>\n",
    "<center>$\\textit{Image 3: Phase diagrams of susceptible and removed population for ODE simulation}$</center>\n",
    "    \n",
    "From the diagrams above for susceptible and removed population, it can be seen that\n",
    "1. If k > b, susceptible population proportion is always close to one and removed population proportion is always close to zero, since there are almost no more infected people.\n",
    "    \n",
    "2. IF k < b, After the surge and recover of infectious population, the susceptible population proportion at the end is greater when the difference between b and k is greater \n"
   ]
  },
  {
   "cell_type": "markdown",
   "metadata": {},
   "source": [
    "### 3.2 Agent-based model simulation\n",
    "<center><img src=\"Example_plot_discrete.png\" width=\"90%\"/>\n",
    "<center>$\\textit{Image 3: Example plot for agent-based model simulation under different values of b and k.}$</center>\n",
    "    \n",
    "The example plot for agent-based model simulation agrees with that for ODE simulation. We then also drew 12 phase diagrams to see the qualitative behavior of the simulations based on the parameters b and k:\n",
    "\n",
    "\n",
    "<center><img src=\"phase_diagram_discrete_I.png\" width=\"90%\"/>\n",
    "<center><img src=\"phase_diagram_discrete_S.png\" width=\"90%\"/>\n",
    "<center><img src=\"phase_diagram_discrete_R.png\" width=\"90%\"/>\n",
    "<center>$\\textit{Image 3: Phase diagrams of susceptible and removed population for agent-based model simulation}$</center>\n",
    "    \n",
    "These phase diagrams also agrees with that for ODE simulations, though they are not as smooth as plots for ODE simulations.\n",
    "\n",
    "    \n",
    " "
   ]
  },
  {
   "cell_type": "markdown",
   "metadata": {},
   "source": [
    "### 4. Variations/improvements proposal "
   ]
  },
  {
   "cell_type": "code",
   "execution_count": null,
   "metadata": {},
   "outputs": [],
   "source": []
  },
  {
   "cell_type": "code",
   "execution_count": null,
   "metadata": {},
   "outputs": [],
   "source": []
  }
 ],
 "metadata": {
  "kernelspec": {
   "display_name": "Python 3",
   "language": "python",
   "name": "python3"
  },
  "language_info": {
   "codemirror_mode": {
    "name": "ipython",
    "version": 3
   },
   "file_extension": ".py",
   "mimetype": "text/x-python",
   "name": "python",
   "nbconvert_exporter": "python",
   "pygments_lexer": "ipython3",
   "version": "3.6.8"
  }
 },
 "nbformat": 4,
 "nbformat_minor": 4
}
