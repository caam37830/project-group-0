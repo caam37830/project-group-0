{
 "cells": [
  {
   "cell_type": "markdown",
   "metadata": {},
   "source": [
    "## <center>Preliminary Report of the Susceptible-Infected-Removed (SIR) Model for Disease Spread\n",
    "<center>$\\textit{Yu An 12249123}$\n",
    "<center>$\\textit{Shu Han 12249123}$\n",
    "<center>$\\textit{Yun Lin 12249123}$"
   ]
  },
  {
   "cell_type": "markdown",
   "metadata": {},
   "source": [
    "## 1. Introduction to the SIR model\n",
    "The SIR (susceptible-infected-removed) model, contributed by Kermack, W. O., McKendrick, A. G, Ronald Ross and others, was formed in the early twenties and made a big breakthrough in modeling the trend of the possibile disease outbreak as well as providing key information for the public and authorities regarding severeness and control [[1]](#1). The establishment of the simiplied model is implemented here in this project [[2]](#1)[[3]](#1)[[4]](#1). \n",
    "\n",
    "Under a fixed homogeneous population (`N`), three distinct subpopulations are divided (`S` + `I` + `R` = `N`): \n",
    "1. `S`  - those who are susceptible and have not yet caught the disease\n",
    "2. `I`  - those who are infected and may spread the disease\n",
    "3. `R`  - those who have recovered without the ability to spread and are immuned to the disease \n",
    "\n",
    "These groups are divided in a way that during an epidemic, people are interested in the amount of infected patients that can transmit the disease, the number of agents who are immuned against the disease and the portions who are not yet being infected and are susceptible. Denote the sizes of these groups at time $t$ by $S(t)$, $I(t)$, and $R(t)$. \n",
    "\n",
    "Moreover, introduce notations involved in this model: \n",
    "* `b`: a fixed number of interactions that spread the disease per day per infected individual\n",
    "* `k`: a fixed fraction of the infected subpopulation that recovers per day\n",
    "\n",
    "Altogether, the SIR model consists of a system of three ordinary differential equations (ODEs) that be written by\n",
    "$$\\frac{ds}{dt} = -b*s(t)*i(t)$$\n",
    "$$\\frac{di}{dt} = b*s(t)*i(t)-k*i(t)$$\n",
    "$$\\frac{dr}{dt} = k*i(t)$$\n",
    "\n",
    "where `s`,`i` and `r` here are the percentage of each group size over the total population. \n",
    "\n",
    "Besides a closed population with no social structure, the SIR model also assumes that `R` subpopulation is permanently immuned and the `I` subpopulation is contagious at the moment of infection. Moreover, the model assumes a mass-action mixing, meaning the fraction of interactions between `S` and `I` is proportional to the product of their population sizes [[5]](#1). In other words, each agent will have equal probability in interacting with every other agents per unit time. This implies that an increase in the size of the subpopulations will lead to an increase in the infections and that `I` and `S` are homogeneously distributed in space. This might be problematic in real-world cases, as people tends to encounter within a small community. While these assumptions can sometimes be strong and adversely affecting the prediction in applications, they can be adjusted in various forms to bring complexity and create extended and modified versions of the SIR models. The project explores some variation and modification in section 4."
   ]
  },
  {
   "cell_type": "markdown",
   "metadata": {},
   "source": [
    "## 2. sir package\n",
    "\n",
    "The `sir` package consists of 3 parts. `sir/discrete.py` contains all definitions of class and functions required for the discrete agent-based simulation. `sir/ode.py` containes all definitions of functions used in continues/ ODE-based simulation. `sir/__init__.py` is required to import the directory as a package.\n",
    "\n",
    "||discrete.py|ode.py|\n",
    "|:-:|:-:|:-:|\n",
    "|class|Person||\n",
    "|function|count_infectious|ODE_simulation|\n",
    "||count_removed|\n",
    "||count_susceptible|\n",
    "||sir_model_simulation|\n"
   ]
  },
  {
   "cell_type": "markdown",
   "metadata": {},
   "source": [
    "## 3. Preliminary investigations using the agent-based and continuous models\n",
    "In this section, the population size is assumed to be 10000. The initial condition is that 0.1% of the population has been infected, while others remian susceptible. `b` denotes the number of interactions each day that could spread the disease (per individual) and `k` denotes the fraction of the infectious population which recovers each day."
   ]
  },
  {
   "cell_type": "markdown",
   "metadata": {},
   "source": [
    "### 3.1 ODE simulation\n",
    "<center><img src=\"Example_plot_ode.png\" width=\"90%\"/>\n",
    "<center>$\\textit{Image 1: Example plot for ODE simulation under different values of b and k.}$</center>"
   ]
  },
  {
   "cell_type": "markdown",
   "metadata": {},
   "source": [
    "Here we simulated the S, I, R populations over time under different b and k. It is obvious that if k is approximate zero, the infectious population gets larger but cannot recover, hence all population will get be infectious eventually. It is also obvious that if k is approximate one, infectious people are sure to removed, hence no more susceptible people get infected. This two special but trival cases were not simulated. We simulated for b=1/5,2/5,3/5,4/5,1,2 and k=1/5,2/5,3/5,4/5. It can be seen from the plot that \n",
    "\n",
    "1. If k = b, there will be a very small surge of infectious population (less than 10% of total population), so the susceptible population decrease a bit. Soon the infectious population will decrease to around zero since they are removed (recovered or dead).\n",
    "\n",
    "2. If k > b, there will almost no surge of infectious population, the initial infectious people will soon removed. The susceptible population remains uninfected.\n",
    "\n",
    "3. If k < b, there will be a significant surge of infectious population. As k is significantly larger than zero, the infectious population will eventually recovered. Moreover, when k < b, the larger the difference between b and k, the greater the surge will be. When b is larger than 1, it can be seen that almost the entire population will have been infected and recoverd.\n",
    "\n",
    "In order to have a closer look at the qualitative behavior of the simulations based on the parameters b and k, we drew phase diagrams to look at the each population proportion with respect to k and b at several time points (T=20,40,60,80)."
   ]
  },
  {
   "cell_type": "markdown",
   "metadata": {},
   "source": [
    "<center><img src=\"phase_diagram_ODE_I.png\" width=\"90%\"/>\n",
    "<center>$\\textit{Image 2: Phase diagram of infectious population for ODE simulation}$</center>\n",
    "    \n",
    "From the four phase diagrams above for infectious population, it can be seen that\n",
    "1. The dark area on top right of each diagram indicates that if k > b, infectious population size is close to zero all the time, which means that there is almost no surge of infectious population and the initial infectious people are soon removed. It agrees with the result of Image 1. \n",
    "    \n",
    "2. The lighter area first appears in the lower left corner, then moves in the upper right and become darker itself at the same time. It indicates that if k < b, when the difference between k and b is larger, the surge of infecious population appears earlier and greater. It is also earlier and quicker for the infectious population goes to zero.\n",
    "\n",
    "\n",
    "\n",
    "\n",
    "\n",
    "<center><img src=\"phase_diagram_ODE_S.png\" width=\"90%\"/>\n",
    "<center><img src=\"phase_diagram_ODE_R.png\" width=\"90%\"/>\n",
    "<center>$\\textit{Image 3: Phase diagrams of susceptible and removed population for ODE simulation}$</center>\n",
    "    \n",
    "From the diagrams above for susceptible and removed population, it can be seen that\n",
    "1. If k > b, susceptible population proportion is always close to one and removed population proportion is always close to zero, since there are almost no more infectious people. \n",
    "    \n",
    "2. IF k < b, After the surge and recover of infectious population, the susceptible population proportion at the end is smaller when the difference between b and k is greater. It means if b is greater enough than b, everyone is eventually infected.\n",
    "\n"
   ]
  },
  {
   "cell_type": "markdown",
   "metadata": {},
   "source": [
    "### 3.2 Agent-based model simulation\n",
    "<center><img src=\"Example_plot_discrete.png\" width=\"90%\"/>\n",
    "<center>$\\textit{Image 3: Example plot for agent-based model simulation under different values of b and k.}$</center>\n",
    "    \n",
    "The example plot for agent-based model simulation agrees with that for ODE simulation. We then also drew 12 phase diagrams to see the qualitative behavior of the simulations based on the parameters b and k:\n",
    "\n",
    "\n",
    "<center><img src=\"phase_diagram_discrete_I.png\" width=\"90%\"/>\n",
    "<center><img src=\"phase_diagram_discrete_S.png\" width=\"90%\"/>\n",
    "<center><img src=\"phase_diagram_discrete_R.png\" width=\"90%\"/>\n",
    "<center>$\\textit{Image 3: Phase diagrams of susceptible and removed population for agent-based model simulation}$</center>\n",
    "    \n",
    "These phase diagrams also agrees with that for ODE simulations, though they are not as smooth as plots for ODE simulations.\n",
    "\n",
    "    \n",
    " "
   ]
  },
  {
   "cell_type": "markdown",
   "metadata": {},
   "source": [
    "## 4. Variations/improvements proposal "
   ]
  },
  {
   "cell_type": "markdown",
   "metadata": {},
   "source": [
    "### Modeling the use of quarantine\n",
    "\n",
    "The SIR model assumes the frequency of interaction between one and the other is kept stable even when one of them is infected. According to actual situation, we can see that many countries/regions try to use quarantine to reduce the interactions between people, which is the parameter `b` in the SIR model.  Moreover, under the case of COVID-19, there's a time delay between one being infection and being confirmed as sick. Therefore isolating infected patients is an effective way to reduce the rate of disease transmission. Based on this idea, we propose the following SUQC[[10]](#1) model to describe this situation.\n",
    "\n",
    "In this model, the total population `N` is divided into 4 parts:\n",
    "1. `S` (Susceptible) - the individual who has not yet caught the disease\n",
    "2. `U` (Unquarantined) - the unquarantined infected individual who may spread the disese to susceptible individuals\n",
    "3. `Q` (Quarantined) - the quarantined infected individual who loss ability of indecting susceptible individuals\n",
    "4. `C` (Confirmed) - the individual who is confirmed sick\n",
    "\n",
    "All parts above are functions of time t.\n",
    "\n",
    "The number of removed individuals R is not inclued. This model assumes that once the infected are qurantined, we assume that the probability of infecting susceptible indviduals in zeto. So whether they are recovered/removed won't affect the whole dynamic system. This model exert more focus on the direct impact of quarantine measures on disease spread.\n",
    "\n",
    "There are 3 parameters involved in this model:\n",
    "* $\\alpha$: the number of individuals infected by an unquarantined individual per day\n",
    "* $\\beta$: the rate at which the cases are confirmed\n",
    "* $\\gamma$: the rate at which unquarantined infected individuals get quarantined\n",
    "\n",
    "which gives us the following differential equations:\n",
    "\n",
    "$$\\frac{dS}{dt}=-\\frac{\\alpha*U(t)*S(t)}{N}$$\n",
    "$$\\frac{dU}{dt}=\\frac{\\alpha*U(t)*S(t)}{N}-\\gamma*U(t)$$\n",
    "$$\\frac{dQ}{dt}=\\gamma*U(t)-\\beta*Q(t)$$\n",
    "$$\\frac{dC}{dt}=\\beta*Q(t)$$\n",
    "\n",
    "With the model above, we can build discrete and continues simulations to see how these 4 parts of population changes over time with different parameters.\n",
    "\n",
    "Resourse:\n",
    "[Modeling the epidemic dynamics and control of COVID-19 outbreak in China]\n",
    "(https://www.ncbi.nlm.nih.gov/pmc/articles/PMC7095099/pdf/40484_2020_Article_199.pdf)\n",
    "\n"
   ]
  },
  {
   "cell_type": "markdown",
   "metadata": {},
   "source": [
    "### The Susceptible-Infected-Recovery-Death (SIRD) Model\n",
    "\n",
    "In the SIR model, `R` subpopulations contains those who have recovered or have died. The real-world case can be a bit more complicated. In previous studies, researchers have found that it seemed important to separate the infectious and the recovering phase [[6]](#1). From a biological point of view, an infectious period might average out about 4 to 5 days while resolving period average out about 14 to 20 days [[7]](#1). Hence, it can be problematic when fitting real-world data on the SIR model. The introduction of the SIRD model helps distinguish the two states. After infection, a person then comes to the 'Resolving' state with two consequences: either recovered or died. The SIRD model clarifies the transmission process and help explore the fatality in evaluating the severeness of the disease. \n",
    "\n",
    "In this model, the total population `N` is divided into 5 groups [[6]](#1):\n",
    "1. S(t) - the number of individuals susceptible\n",
    "2. I(t) - the number of individuals infected \n",
    "3. R(t) - the number of individuals that are being resolved \n",
    "4. D(t) - the number of individuals that died from the disease\n",
    "4. C(t) - the number of individuals that recovered from the disease\n",
    "\n",
    "Similar to the SIR model, some of the assumptions for SIRD model requires a fixed homogenous population with `C` subpopulation permanently immuned and the `I` subpopulation contagious at the moment of infection. \n",
    "\n",
    "There are 3 parameters involved in this model:\n",
    "* $\\beta$: a fixed number of interactions that spread the disease per day per infected individual\n",
    "* $\\gamma$: a Poisson rate of infectiousness resolves\n",
    "* $\\theta$: a fixed fraction of people exiting the resolving state\n",
    "* $\\delta$: a fixed fraction of the resolved consequences being died per day\n",
    "\n",
    "which gives us the following differential equations:\n",
    "\n",
    "$$\\frac{dS(t)}{dt} = -\\frac{\\beta*S(t)*I(t)}{N}$$\n",
    "$$\\frac{dI(t)}{dt} = \\beta*S(t)*I(t)-\\gamma*I(t)$$\n",
    "$$\\frac{dR(t)}{dt} = \\gamma*I(t)-\\theta*R(t)$$\n",
    "$$\\frac{dD(t)}{dt} = \\delta*\\theta*R(t)$$\n",
    "$$\\frac{dC(t)}{dt} = (1-\\delta)*\\theta*R(t)$$\n",
    "\n",
    "Moreover, if we consider $\\beta_t$ to be a time-varying parameter, it can then capture and reflect the changes on interactions due to lockdown, social distancing or other individual behaviors [[8]](#1). "
   ]
  },
  {
   "cell_type": "markdown",
   "metadata": {},
   "source": [
    "### Modeling the appearance of a new strain\n",
    "It happens for diseases to reemerge due to the appearance of a new strain. A original strain may mutate through the antigenic shift or antigenic drift. The resulted newer strain does not exhibit cross-immunity with the original one, which means that people who recovered from the original strain will become susceptible to the new strain [[9]](#1). . This situation can be modelled by permorming modifications of the SIR model.\n",
    "\n",
    "A new strain is often introduced when an equilibrium has been achieved by the original strain. It has transmission parameter `b'` and the recoval parameter`k'`. Instead of three categories `S`, `I` and `R` in the SIR model, new categories are created:\n",
    "\n",
    "* `S`: an individual who has not yet caught the disease, but may be infected by the original strain or the new strain.\n",
    "* `I_1`:an individual is infectious of the original strain.\n",
    "* `I_2`: an individual is infectious of the new strain.\n",
    "* `R_1`: People who have removed after being infected by the original strain. Part of them have recovered from the desease while others have died. People who recovered is susceptible of the new strain. Here we suppose the number of people died is proprotional to size of infecious population of constant `d`. \n",
    "* `R_2`: People who have removed after being infected by the newer strain.\n",
    "\n",
    "Similar to SIR model, system of differential equations can be expressed as:\n",
    "$$\\frac{ds}{dt}=-bs(t)i_1(t)-b's(t)i_2(t)$$\n",
    "$$\\frac{di_1}{dt}=bs(t)i_1(t)-ki_1(t)$$\n",
    "$$\\frac{di_2}{dt}=b'i_2(t)[s(t)+(1-d)r_1(t)]-k'i_2(t)$$\n",
    "$$\\frac{dr_1}{dt}=ki_1(t)-b'i_2(t)(1-d)r_1(t)$$\n",
    "$$\\frac{dr_2}{dt}=k'i_2(t)$$\n",
    "\n",
    "Based on the model discussed above, it is natural to perform discrete and continuous simulations of these 5 populations and have a look at how the population sizes change over time. We will also solve the equilibrium points for this model where the sizes of each of 5 populations do not change over time and explore what regime of b, k, b', k'and d affect the equilibrium."
   ]
  },
  {
   "cell_type": "markdown",
   "metadata": {},
   "source": [
    "## References\n",
    "<a id=\"1\">[1]</a> \n",
    "Anderson, Roy M. \n",
    "\"Discussion: the Kermack-McKendrick epidemic threshold theorem.\" \n",
    "Bulletin of mathematical biology 53.1-2 (1991): 1.\n",
    "\n",
    "<a id=\"1\">[2]</a> \n",
    "Cooper, Ian et al. \n",
    "“A SIR model assumption for the spread of COVID-19 in different communities.” \n",
    "Chaos, solitons, and fractals vol. 139 (2020): 110057. doi:10.1016/j.chaos.2020.110057\n",
    "\n",
    "<a id=\"1\">[3]</a> \n",
    "The SIR Model of Disease Spread (MAA)\n",
    "https://www.maa.org/press/periodicals/loci/joma/the-sir-model-for-spread-of-disease-the-differential-equation-model\n",
    "\n",
    "<a id=\"1\">[4]</a> \n",
    "Kermack-McKendrick Model (Wolfram MathWorld)\n",
    "https://mathworld.wolfram.com/Kermack-McKendrickModel.html\n",
    "\n",
    "<a id=\"1\">[5]</a> \n",
    "Weiss, Howard Howie. \n",
    "\"The SIR model and the foundations of public health.\" \n",
    "Materials matematics (2013): 0001-17.\n",
    "\n",
    "<a id=\"1\">[6]</a> \n",
    "Fernández-Villaverde, Jesús, and Charles I. Jones. \n",
    "Estimating and Simulating a SIRD Model of COVID-19 for Many Countries, States, and Cities. \n",
    "No. w27128. National Bureau of Economic Research, 2020.\n",
    "\n",
    "<a id=\"1\">[7]</a> \n",
    "Bar-On, Yinon M., et al. \n",
    "\"Science Forum: SARS-CoV-2 (COVID-19) by the numbers.\" Elife 9 (2020): e57309.\n",
    "\n",
    "<a id=\"1\">[8]</a> \n",
    "Chatterjee, Saptarshi, et al. \n",
    "\"Studying the progress of COVID-19 outbreak in India using SIRD model.\" medRxiv (2020).\n",
    "\n",
    "<a id=\"1\">[9]</a> \n",
    "Fudolig M., Howard R. \n",
    "\"The local stability of a modified multi-strain SIR model for emerging viral strains.\" (2020)."
   ]
  },
  {
   "cell_type": "code",
   "execution_count": null,
   "metadata": {},
   "outputs": [],
   "source": []
  }
 ],
 "metadata": {
  "kernelspec": {
   "display_name": "Python 3",
   "language": "python",
   "name": "python3"
  },
  "language_info": {
   "codemirror_mode": {
    "name": "ipython",
    "version": 3
   },
   "file_extension": ".py",
   "mimetype": "text/x-python",
   "name": "python",
   "nbconvert_exporter": "python",
   "pygments_lexer": "ipython3",

  }
 },
 "nbformat": 4,
 "nbformat_minor": 4
}
