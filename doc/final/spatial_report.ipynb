{
 "cells": [
  {
   "cell_type": "markdown",
   "metadata": {},
   "source": [
    "### 2. SIR model and variations"
   ]
  },
  {
   "cell_type": "markdown",
   "metadata": {},
   "source": [
    "#### 2.1 Basic SIR model"
   ]
  },
  {
   "cell_type": "markdown",
   "metadata": {},
   "source": [
    "#### 2.2 Spatial SIR model\n",
    "The basic SIR model developed by Kermack and McKendrick does not condisider the population distribution in space. There are many spatial models that have been studied. For instance, __ modelled the distribution by stochastic processes. In this section, an Agent-based model and a PDE model are simulated to model the spatial distribution of individuals. \n",
    "\n",
    "#### $\\textit{2.2.1 Agent-based model}$\n",
    "Apart from the `S` `I` `R` state that seperates the whole population, each agent also has a position within a unit square, represented by `(x,y)`, where $0 \\leq x \\leq 1$ and $0 \\leq y \\leq 1$. Movement of people will be modelled by making each individual take a step in a random direction of length `p` at each time step. We set a radius `q`, within which all other people will be infected if the agent is in an infectious state. We chose following parameter value for agent-based model simulation:`N = 10000`, `I_0 = 10`, `T = 300`, `b = 1/2`, `q = sqrt(b/(N * pi))`,\n",
    "`k = 1/20`,\n",
    "`p = [0,0.1,...,0.9]`, and set the initial break out to be the nearest `I0` people closest to the center the square `(0.5,0.5)`\n",
    "\n",
    "##### $\\textit{Disease spreads with different step length}$\n",
    "By simulating with different step length `p`, we keep track on the time evolution of `S` `I` and `R` subpopulation size.\n",
    "\n",
    "<center><img src=\"spatial_discrete_p1.png\" width=\"90%\"/>\n",
    "<center>$\\textit{Image 1: Plot of agent-based model with different step length p}$</center>\n",
    "\n",
    "From the plot in Image 1, \n",
    "* With increasing step length `p`, the peak of the infectious population increases first, and then decreases. The peak of infectious population size is maximized when `p` is 0.2.\n",
    "    \n",
    "* With increasing step length `p`, it is faster for the disease to spread. \n",
    "    \n",
    "<center><img src=\"spatial_discrete_p1_tot_inf.png\" width=\"40%\"/>  \n",
    "<center>$\\textit{Image 2: Plot of total number of people infected with different step length p}$</center>   "
   ]
  },
  {
   "cell_type": "markdown",
   "metadata": {},
   "source": [
    "From the plot in Image 2,\n",
    "* When `p` is 0, there is no people getting infected\n",
    "* The total number of people that have been infected also increases and than decreases with increasing step length `p`.\n",
    "\n",
    "\n",
    "The simulation above reveals that with `k = 1/20` and `b=1/2`, the disease is unlikely to spread if people stay still. However, if people move in relatively small steps, there will be a relatively large and fast break out of the disease. If people move in relatively large steps, the break out of the disease will be slow and small.\n",
    "\n",
    "    \n",
    "##### $\\textit{Disease spreads with different start position}$\n",
    "In this part, how different start position of inital infectious people affects the spread of disease is explored. We compare starting at `center`, `corner` and `random` position:\n",
    "* `Center`: I0 people closest to the center of the square ([0.5,0.5])\n",
    "* `Corner`: I0 people closest to the corner of the square ([0,0])\n",
    "* `Random`: I0 people randomly distributed within the square\n",
    "<center><img src=\"spatial_discrete_p2.png\" width=\"100%\"/>  \n",
    "<center>$\\textit{Image 3: Plot of agent-based model with different start position}$</center>   \n",
    "\n",
    "From the plot, the time evolution of S, I and R subpopulation size is extremely similar. This result contradicts the intuition that the disease start at the corner may spread slower, since people can only move in 1/4 of the direction and disease start randomly may spread faster. However, it can be explained by the previous part. Larger step size are equivalent to a more sparse starting position, thus a randomly initiated start will not necessary lead to a larger break out. On the contrary, the peak comes slightly slower and the total number of people infected is slightly lower."
   ]
  },
  {
   "cell_type": "markdown",
   "metadata": {},
   "source": [
    "#### 2.3 (variation 1)"
   ]
  },
  {
   "cell_type": "markdown",
   "metadata": {},
   "source": [
    "#### 2.4 (variation 2)"
   ]
  },
  {
   "cell_type": "markdown",
   "metadata": {},
   "source": [
    "#### 2.5 Modeling the appearance of a new strain"
   ]
  }
 ],
 "metadata": {
  "kernelspec": {
   "display_name": "Python 3",
   "language": "python",
   "name": "python3"
  },
  "language_info": {
   "codemirror_mode": {
    "name": "ipython",
    "version": 3
   },
   "file_extension": ".py",
   "mimetype": "text/x-python",
   "name": "python",
   "nbconvert_exporter": "python",
   "pygments_lexer": "ipython3",
   "version": "3.6.8"
  }
 },
 "nbformat": 4,
 "nbformat_minor": 4
}
